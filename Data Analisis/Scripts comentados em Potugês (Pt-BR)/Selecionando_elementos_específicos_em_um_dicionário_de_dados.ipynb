{
  "nbformat": 4,
  "nbformat_minor": 0,
  "metadata": {
    "colab": {
      "name": "Selecionando elementos específicos em um dicionário de dados.ipynb",
      "provenance": [],
      "collapsed_sections": [],
      "authorship_tag": "ABX9TyPaxE/Fx5oW8xDyVovcvgHE",
      "include_colab_link": true
    },
    "kernelspec": {
      "name": "python3",
      "display_name": "Python 3"
    }
  },
  "cells": [
    {
      "cell_type": "markdown",
      "metadata": {
        "id": "view-in-github",
        "colab_type": "text"
      },
      "source": [
        "<a href=\"https://colab.research.google.com/github/claudioaf/Python/blob/main/Selecionando_elementos_espec%C3%ADficos_em_um_dicion%C3%A1rio_de_dados.ipynb\" target=\"_parent\"><img src=\"https://colab.research.google.com/assets/colab-badge.svg\" alt=\"Open In Colab\"/></a>"
      ]
    },
    {
      "cell_type": "markdown",
      "metadata": {
        "id": "vd6X_HO9SwN-"
      },
      "source": [
        "###Vamos utilizar o Script abaixo para selecionar elementos em um dicionário de dados a partir de determinado critério"
      ]
    },
    {
      "cell_type": "code",
      "metadata": {
        "id": "tcYXqTwxSJFE"
      },
      "source": [
        "# Criando o dicionário\n",
        "dicionario ={\n",
        "    1: 'manoel',\n",
        "    2: 'paulo',\n",
        "    3: 'ricardo',\n",
        "    4: 'roberto',\n",
        "    5: 'thiago',\n",
        "    6: 'sofia',\n",
        "    7: 'tereza',\n",
        "    8: 'ana',\n",
        "    9: 'manoela',\n",
        "    10: 'eduardo',\n",
        "    11: 'josé',\n",
        "    12: 'adalberto',\n",
        "    13: 'anibal',\n",
        "    14: 'adriana',\n",
        "    15: 'augusto',\n",
        "    16: 'felipe',\n",
        "    17: 'fernando',\n",
        "    18: 'apolo',\n",
        "    19: 'vinicius',\n",
        "    20: 'andre',\n",
        "    21: 'any',\n",
        "    22: 'camila',\n",
        "    23: 'andrea',\n",
        "    24: 'juliana',\n",
        "    25: 'italo',\n",
        "    26: 'max'\n",
        "}"
      ],
      "execution_count": 4,
      "outputs": []
    },
    {
      "cell_type": "markdown",
      "metadata": {
        "id": "3dctJbqiXwwc"
      },
      "source": [
        "### 1 - Selecionando dados a partir de critérios aplicados a um caractere numérico"
      ]
    },
    {
      "cell_type": "markdown",
      "metadata": {
        "id": "9168O9EvpuJU"
      },
      "source": [
        "2.1 - Criar um dicionário com o nomes cujo Id é maior ou igual a 20"
      ]
    },
    {
      "cell_type": "code",
      "metadata": {
        "id": "MDWtb6_CYBdp",
        "colab": {
          "base_uri": "https://localhost:8080/"
        },
        "outputId": "bcb88035-0314-4187-a827-6a14e5ffb2b3"
      },
      "source": [
        "# Definindo o dicionário que receberá os dados filtrados\n",
        "novo_dicionáio = dict()\n",
        "\n",
        "# Iterando para obter os nomes cujo id é maior ou igual a 20\n",
        "for (id, nome) in dicionario.items():\n",
        "  if id >= 20:\n",
        "    novo_dicionáio[id] = nome # Adicionando o Id e o nome ao novo dicionário\n",
        "\n",
        "# Imprimir os nomes cujo Id é maior ou igual a 20\n",
        "print(novo_dicionáio)"
      ],
      "execution_count": null,
      "outputs": [
        {
          "output_type": "stream",
          "text": [
            "{20: 'andre', 21: 'any', 22: 'camila', 23: 'andrea', 24: 'juliana', 25: 'italo', 26: 'max'}\n"
          ],
          "name": "stdout"
        }
      ]
    },
    {
      "cell_type": "markdown",
      "metadata": {
        "id": "uVz1E0xcX-2v"
      },
      "source": [
        "### 2 - Selecionando dados a partir de critérios aplicados a um texto"
      ]
    },
    {
      "cell_type": "markdown",
      "metadata": {
        "id": "TX265Y_XZST3"
      },
      "source": [
        "2.1 - Iniciando com a letra a"
      ]
    },
    {
      "cell_type": "code",
      "metadata": {
        "id": "MZM1mxFcYCBi",
        "colab": {
          "base_uri": "https://localhost:8080/"
        },
        "outputId": "8ff463a4-d2b8-403c-90ea-7ed57135fe32"
      },
      "source": [
        "# Criar uma lista para armazenar os nomes iniciando com a letra a\n",
        "nomes_inicio_a =[]\n",
        "\n",
        "# Obtendo os nomes que iniciam com a letra a e gravando na lista 'nomes_inicio_a'\n",
        "for (id,nomes) in dicionario.items():\n",
        "  if dicionario[id][0] == \"a\": #[id]: indicará qual elemento será consultado no dicionário / [0]: seleciona o primiero elemento da string nome\n",
        "    nomes_inicio_a.append(nomes)\n",
        "\n",
        "nomes_inicio_a"
      ],
      "execution_count": 27,
      "outputs": [
        {
          "output_type": "execute_result",
          "data": {
            "text/plain": [
              "['ana',\n",
              " 'adalberto',\n",
              " 'anibal',\n",
              " 'adriana',\n",
              " 'augusto',\n",
              " 'apolo',\n",
              " 'andre',\n",
              " 'any',\n",
              " 'andrea']"
            ]
          },
          "metadata": {
            "tags": []
          },
          "execution_count": 27
        }
      ]
    },
    {
      "cell_type": "code",
      "metadata": {
        "id": "98FYwcAXYB8P",
        "colab": {
          "base_uri": "https://localhost:8080/"
        },
        "outputId": "e43612f4-5f66-4f77-efab-6b0e0c8b1d11"
      },
      "source": [
        "print(dicionario[1][1])"
      ],
      "execution_count": 25,
      "outputs": [
        {
          "output_type": "stream",
          "text": [
            "a\n"
          ],
          "name": "stdout"
        }
      ]
    },
    {
      "cell_type": "markdown",
      "metadata": {
        "id": "54TwLm3hZJb4"
      },
      "source": [
        "2.2 - A partir de determinado comprimento (Tamanho do nome)"
      ]
    },
    {
      "cell_type": "markdown",
      "metadata": {
        "id": "n42qGtcY-3A-"
      },
      "source": [
        "2.2.1 - Verificando o tamanho de cada nome"
      ]
    },
    {
      "cell_type": "code",
      "metadata": {
        "colab": {
          "base_uri": "https://localhost:8080/"
        },
        "id": "EVEPmbW7012K",
        "outputId": "5cc5f55c-89c0-4cfd-bd12-21845f101b15"
      },
      "source": [
        "# Criar uma lista para armazenar o tamanho do nome\n",
        "tamanho_lista = []\n",
        "\n",
        "# Criar uma lista para armazenar o nome\n",
        "nome_lista = []\n",
        "\n",
        "# Otendo o tamanho do nome e gravando nas listas\n",
        "for (id,nomes) in dicionario.items():\n",
        "  tamanho = len(nomes)\n",
        "  nome = nomes\n",
        "  \n",
        "  tamanho_lista.append(tamanho)\n",
        "  nome_lista.append(nome)\n",
        "\n",
        "# Criar um novo dicionário utilizando os itens das listas que criamos acima\n",
        "nomes_tamanho = dict(zip(nome_lista,tamanho_lista))  \n",
        "print(nomes_tamanho)"
      ],
      "execution_count": null,
      "outputs": [
        {
          "output_type": "stream",
          "text": [
            "{'manoel': 6, 'paulo': 5, 'ricardo': 7, 'roberto': 7, 'thiago': 6, 'sofia': 5, 'tereza': 6, 'ana': 3, 'manoela': 7, 'eduardo': 7, 'josé': 4, 'adalberto': 9, 'anibal': 6, 'adriana': 7, 'augusto': 7, 'felipe': 6, 'fernando': 8, 'apolo': 5, 'vinicius': 8, 'andre': 5, 'any': 3, 'camila': 6, 'andrea': 6, 'juliana': 7, 'italo': 5, 'max': 3}\n"
          ],
          "name": "stdout"
        }
      ]
    },
    {
      "cell_type": "code",
      "metadata": {
        "colab": {
          "base_uri": "https://localhost:8080/",
          "height": 855
        },
        "id": "OrFSCwEFVZTj",
        "outputId": "1d6b45a0-6c7f-42d9-aadd-c6062efa81ee"
      },
      "source": [
        "# Biblioteca necessária para criar um dataframe com os dados do dicionário\n",
        "import pandas as pd\n",
        "\n",
        "# Criando o dataframe\n",
        "dataframe = pd.DataFrame.from_dict(nomes_tamanho, orient=\"index\").reset_index()\n",
        "\n",
        "# Alterando o nome das colunas\n",
        "dataframe.columns = ['NOME','TAMANHO']\n",
        "\n",
        "# Ordenando por tamanho de nome decrescente\n",
        "df = dataframe.sort_values(by='TAMANHO',ascending=False)\n",
        "\n",
        "# Visualizando o dataframe\n",
        "df"
      ],
      "execution_count": null,
      "outputs": [
        {
          "output_type": "execute_result",
          "data": {
            "text/html": [
              "<div>\n",
              "<style scoped>\n",
              "    .dataframe tbody tr th:only-of-type {\n",
              "        vertical-align: middle;\n",
              "    }\n",
              "\n",
              "    .dataframe tbody tr th {\n",
              "        vertical-align: top;\n",
              "    }\n",
              "\n",
              "    .dataframe thead th {\n",
              "        text-align: right;\n",
              "    }\n",
              "</style>\n",
              "<table border=\"1\" class=\"dataframe\">\n",
              "  <thead>\n",
              "    <tr style=\"text-align: right;\">\n",
              "      <th></th>\n",
              "      <th>NOME</th>\n",
              "      <th>TAMANHO</th>\n",
              "    </tr>\n",
              "  </thead>\n",
              "  <tbody>\n",
              "    <tr>\n",
              "      <th>11</th>\n",
              "      <td>adalberto</td>\n",
              "      <td>9</td>\n",
              "    </tr>\n",
              "    <tr>\n",
              "      <th>18</th>\n",
              "      <td>vinicius</td>\n",
              "      <td>8</td>\n",
              "    </tr>\n",
              "    <tr>\n",
              "      <th>16</th>\n",
              "      <td>fernando</td>\n",
              "      <td>8</td>\n",
              "    </tr>\n",
              "    <tr>\n",
              "      <th>13</th>\n",
              "      <td>adriana</td>\n",
              "      <td>7</td>\n",
              "    </tr>\n",
              "    <tr>\n",
              "      <th>14</th>\n",
              "      <td>augusto</td>\n",
              "      <td>7</td>\n",
              "    </tr>\n",
              "    <tr>\n",
              "      <th>2</th>\n",
              "      <td>ricardo</td>\n",
              "      <td>7</td>\n",
              "    </tr>\n",
              "    <tr>\n",
              "      <th>3</th>\n",
              "      <td>roberto</td>\n",
              "      <td>7</td>\n",
              "    </tr>\n",
              "    <tr>\n",
              "      <th>23</th>\n",
              "      <td>juliana</td>\n",
              "      <td>7</td>\n",
              "    </tr>\n",
              "    <tr>\n",
              "      <th>8</th>\n",
              "      <td>manoela</td>\n",
              "      <td>7</td>\n",
              "    </tr>\n",
              "    <tr>\n",
              "      <th>9</th>\n",
              "      <td>eduardo</td>\n",
              "      <td>7</td>\n",
              "    </tr>\n",
              "    <tr>\n",
              "      <th>22</th>\n",
              "      <td>andrea</td>\n",
              "      <td>6</td>\n",
              "    </tr>\n",
              "    <tr>\n",
              "      <th>21</th>\n",
              "      <td>camila</td>\n",
              "      <td>6</td>\n",
              "    </tr>\n",
              "    <tr>\n",
              "      <th>15</th>\n",
              "      <td>felipe</td>\n",
              "      <td>6</td>\n",
              "    </tr>\n",
              "    <tr>\n",
              "      <th>0</th>\n",
              "      <td>manoel</td>\n",
              "      <td>6</td>\n",
              "    </tr>\n",
              "    <tr>\n",
              "      <th>12</th>\n",
              "      <td>anibal</td>\n",
              "      <td>6</td>\n",
              "    </tr>\n",
              "    <tr>\n",
              "      <th>6</th>\n",
              "      <td>tereza</td>\n",
              "      <td>6</td>\n",
              "    </tr>\n",
              "    <tr>\n",
              "      <th>4</th>\n",
              "      <td>thiago</td>\n",
              "      <td>6</td>\n",
              "    </tr>\n",
              "    <tr>\n",
              "      <th>1</th>\n",
              "      <td>paulo</td>\n",
              "      <td>5</td>\n",
              "    </tr>\n",
              "    <tr>\n",
              "      <th>17</th>\n",
              "      <td>apolo</td>\n",
              "      <td>5</td>\n",
              "    </tr>\n",
              "    <tr>\n",
              "      <th>19</th>\n",
              "      <td>andre</td>\n",
              "      <td>5</td>\n",
              "    </tr>\n",
              "    <tr>\n",
              "      <th>5</th>\n",
              "      <td>sofia</td>\n",
              "      <td>5</td>\n",
              "    </tr>\n",
              "    <tr>\n",
              "      <th>24</th>\n",
              "      <td>italo</td>\n",
              "      <td>5</td>\n",
              "    </tr>\n",
              "    <tr>\n",
              "      <th>10</th>\n",
              "      <td>josé</td>\n",
              "      <td>4</td>\n",
              "    </tr>\n",
              "    <tr>\n",
              "      <th>7</th>\n",
              "      <td>ana</td>\n",
              "      <td>3</td>\n",
              "    </tr>\n",
              "    <tr>\n",
              "      <th>20</th>\n",
              "      <td>any</td>\n",
              "      <td>3</td>\n",
              "    </tr>\n",
              "    <tr>\n",
              "      <th>25</th>\n",
              "      <td>max</td>\n",
              "      <td>3</td>\n",
              "    </tr>\n",
              "  </tbody>\n",
              "</table>\n",
              "</div>"
            ],
            "text/plain": [
              "         NOME  TAMANHO\n",
              "11  adalberto        9\n",
              "18   vinicius        8\n",
              "16   fernando        8\n",
              "13    adriana        7\n",
              "14    augusto        7\n",
              "2     ricardo        7\n",
              "3     roberto        7\n",
              "23    juliana        7\n",
              "8     manoela        7\n",
              "9     eduardo        7\n",
              "22     andrea        6\n",
              "21     camila        6\n",
              "15     felipe        6\n",
              "0      manoel        6\n",
              "12     anibal        6\n",
              "6      tereza        6\n",
              "4      thiago        6\n",
              "1       paulo        5\n",
              "17      apolo        5\n",
              "19      andre        5\n",
              "5       sofia        5\n",
              "24      italo        5\n",
              "10       josé        4\n",
              "7         ana        3\n",
              "20        any        3\n",
              "25        max        3"
            ]
          },
          "metadata": {
            "tags": []
          },
          "execution_count": 56
        }
      ]
    },
    {
      "cell_type": "markdown",
      "metadata": {
        "id": "kqPtUVcDARP1"
      },
      "source": [
        "2.2.2 - Listando os nomes que tenham tamanho menor ou igual a 5"
      ]
    },
    {
      "cell_type": "code",
      "metadata": {
        "colab": {
          "base_uri": "https://localhost:8080/",
          "height": 328
        },
        "id": "S8BMhq9DDRID",
        "outputId": "48428d07-37c5-44cc-cba7-a00f1de9aa42"
      },
      "source": [
        "df[df['TAMANHO']<=5]"
      ],
      "execution_count": null,
      "outputs": [
        {
          "output_type": "execute_result",
          "data": {
            "text/html": [
              "<div>\n",
              "<style scoped>\n",
              "    .dataframe tbody tr th:only-of-type {\n",
              "        vertical-align: middle;\n",
              "    }\n",
              "\n",
              "    .dataframe tbody tr th {\n",
              "        vertical-align: top;\n",
              "    }\n",
              "\n",
              "    .dataframe thead th {\n",
              "        text-align: right;\n",
              "    }\n",
              "</style>\n",
              "<table border=\"1\" class=\"dataframe\">\n",
              "  <thead>\n",
              "    <tr style=\"text-align: right;\">\n",
              "      <th></th>\n",
              "      <th>NOME</th>\n",
              "      <th>TAMANHO</th>\n",
              "    </tr>\n",
              "  </thead>\n",
              "  <tbody>\n",
              "    <tr>\n",
              "      <th>1</th>\n",
              "      <td>paulo</td>\n",
              "      <td>5</td>\n",
              "    </tr>\n",
              "    <tr>\n",
              "      <th>17</th>\n",
              "      <td>apolo</td>\n",
              "      <td>5</td>\n",
              "    </tr>\n",
              "    <tr>\n",
              "      <th>19</th>\n",
              "      <td>andre</td>\n",
              "      <td>5</td>\n",
              "    </tr>\n",
              "    <tr>\n",
              "      <th>5</th>\n",
              "      <td>sofia</td>\n",
              "      <td>5</td>\n",
              "    </tr>\n",
              "    <tr>\n",
              "      <th>24</th>\n",
              "      <td>italo</td>\n",
              "      <td>5</td>\n",
              "    </tr>\n",
              "    <tr>\n",
              "      <th>10</th>\n",
              "      <td>josé</td>\n",
              "      <td>4</td>\n",
              "    </tr>\n",
              "    <tr>\n",
              "      <th>7</th>\n",
              "      <td>ana</td>\n",
              "      <td>3</td>\n",
              "    </tr>\n",
              "    <tr>\n",
              "      <th>20</th>\n",
              "      <td>any</td>\n",
              "      <td>3</td>\n",
              "    </tr>\n",
              "    <tr>\n",
              "      <th>25</th>\n",
              "      <td>max</td>\n",
              "      <td>3</td>\n",
              "    </tr>\n",
              "  </tbody>\n",
              "</table>\n",
              "</div>"
            ],
            "text/plain": [
              "     NOME  TAMANHO\n",
              "1   paulo        5\n",
              "17  apolo        5\n",
              "19  andre        5\n",
              "5   sofia        5\n",
              "24  italo        5\n",
              "10   josé        4\n",
              "7     ana        3\n",
              "20    any        3\n",
              "25    max        3"
            ]
          },
          "metadata": {
            "tags": []
          },
          "execution_count": 57
        }
      ]
    },
    {
      "cell_type": "markdown",
      "metadata": {
        "id": "-gMiM5pmFJ7a"
      },
      "source": [
        "2.2.3 Mostrando a quantidade de nomes com tamanho menor ou igual a 5"
      ]
    },
    {
      "cell_type": "code",
      "metadata": {
        "colab": {
          "base_uri": "https://localhost:8080/"
        },
        "id": "cVDXDpOjE6vb",
        "outputId": "18fe8ccc-2537-4052-fa82-8fd11e5b9f82"
      },
      "source": [
        "# Contar e somar a quantidade de nomes com tamanho menor ou igual a 5\n",
        "soma_nomes_menor_igual_5 = df[df['TAMANHO']<=5].value_counts().sum()\n",
        "\n",
        "# Imprimindo o resultado\n",
        "print('O dicionário possue '+str(soma_nomes_menor_igual_5)+' nomes com tamanho menor ou igual a 5')"
      ],
      "execution_count": null,
      "outputs": [
        {
          "output_type": "stream",
          "text": [
            "O dicionário possue 9 nomes com tamanho menor ou igual a 5\n"
          ],
          "name": "stdout"
        }
      ]
    }
  ]
}
